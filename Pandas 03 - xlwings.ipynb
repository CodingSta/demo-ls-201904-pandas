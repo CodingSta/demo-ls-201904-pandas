{
 "cells": [
  {
   "cell_type": "code",
   "execution_count": 1,
   "metadata": {},
   "outputs": [],
   "source": [
    "import xlwings as xw"
   ]
  },
  {
   "cell_type": "code",
   "execution_count": 2,
   "metadata": {},
   "outputs": [
    {
     "data": {
      "text/plain": [
       "'0.11.8'"
      ]
     },
     "execution_count": 2,
     "metadata": {},
     "output_type": "execute_result"
    }
   ],
   "source": [
    "xw.__version__"
   ]
  },
  {
   "cell_type": "code",
   "execution_count": 4,
   "metadata": {},
   "outputs": [],
   "source": [
    "import pandas as pd"
   ]
  },
  {
   "cell_type": "code",
   "execution_count": 8,
   "metadata": {
    "collapsed": true
   },
   "outputs": [
    {
     "name": "stdout",
     "output_type": "stream",
     "text": [
      "(100, 7)\n"
     ]
    },
    {
     "data": {
      "text/html": [
       "<div>\n",
       "<style scoped>\n",
       "    .dataframe tbody tr th:only-of-type {\n",
       "        vertical-align: middle;\n",
       "    }\n",
       "\n",
       "    .dataframe tbody tr th {\n",
       "        vertical-align: top;\n",
       "    }\n",
       "\n",
       "    .dataframe thead th {\n",
       "        text-align: right;\n",
       "    }\n",
       "</style>\n",
       "<table border=\"1\" class=\"dataframe\">\n",
       "  <thead>\n",
       "    <tr style=\"text-align: right;\">\n",
       "      <th></th>\n",
       "      <th>순위</th>\n",
       "      <th>앨범</th>\n",
       "      <th>곡명</th>\n",
       "      <th>가수</th>\n",
       "      <th>커버이미지_주소</th>\n",
       "      <th>좋아요</th>\n",
       "      <th>test</th>\n",
       "    </tr>\n",
       "    <tr>\n",
       "      <th>곡일련번호</th>\n",
       "      <th></th>\n",
       "      <th></th>\n",
       "      <th></th>\n",
       "      <th></th>\n",
       "      <th></th>\n",
       "      <th></th>\n",
       "      <th></th>\n",
       "    </tr>\n",
       "  </thead>\n",
       "  <tbody>\n",
       "    <tr>\n",
       "      <th>31709523</th>\n",
       "      <td>1</td>\n",
       "      <td>사춘기집Ⅰ 꽃기운</td>\n",
       "      <td>나만, 봄</td>\n",
       "      <td>볼빨간사춘기</td>\n",
       "      <td>https://cdnimg.melon.co.kr/cm/album/images/102...</td>\n",
       "      <td>67656</td>\n",
       "      <td>0</td>\n",
       "    </tr>\n",
       "    <tr>\n",
       "      <th>31717822</th>\n",
       "      <td>2</td>\n",
       "      <td>KILL THIS LOVE</td>\n",
       "      <td>Kill This Love</td>\n",
       "      <td>BLACKPINK</td>\n",
       "      <td>https://cdnimg.melon.co.kr/cm/album/images/102...</td>\n",
       "      <td>47994</td>\n",
       "      <td>1</td>\n",
       "    </tr>\n",
       "    <tr>\n",
       "      <th>31688205</th>\n",
       "      <td>3</td>\n",
       "      <td>사계 (Four Seasons)</td>\n",
       "      <td>사계 (Four Seasons)</td>\n",
       "      <td>태연 (TAEYEON)</td>\n",
       "      <td>https://cdnimg.melon.co.kr/cm/album/images/102...</td>\n",
       "      <td>115426</td>\n",
       "      <td>2</td>\n",
       "    </tr>\n",
       "    <tr>\n",
       "      <th>31709524</th>\n",
       "      <td>4</td>\n",
       "      <td>사춘기집Ⅰ 꽃기운</td>\n",
       "      <td>별 보러 갈래?</td>\n",
       "      <td>볼빨간사춘기</td>\n",
       "      <td>https://cdnimg.melon.co.kr/cm/album/images/102...</td>\n",
       "      <td>36927</td>\n",
       "      <td>3</td>\n",
       "    </tr>\n",
       "    <tr>\n",
       "      <th>31706215</th>\n",
       "      <td>5</td>\n",
       "      <td>사월, 그리고 꽃 - The 1st Mini Album</td>\n",
       "      <td>사월이 지나면 우리 헤어져요 (Beautiful goodbye)</td>\n",
       "      <td>첸 (CHEN)</td>\n",
       "      <td>https://cdnimg.melon.co.kr/cm/album/images/102...</td>\n",
       "      <td>86810</td>\n",
       "      <td>4</td>\n",
       "    </tr>\n",
       "  </tbody>\n",
       "</table>\n",
       "</div>"
      ],
      "text/plain": [
       "         순위                              앨범  \\\n",
       "곡일련번호                                         \n",
       "31709523  1                       사춘기집Ⅰ 꽃기운   \n",
       "31717822  2                  KILL THIS LOVE   \n",
       "31688205  3               사계 (Four Seasons)   \n",
       "31709524  4                       사춘기집Ⅰ 꽃기운   \n",
       "31706215  5  사월, 그리고 꽃 - The 1st Mini Album   \n",
       "\n",
       "                                           곡명            가수  \\\n",
       "곡일련번호                                                         \n",
       "31709523                                나만, 봄        볼빨간사춘기   \n",
       "31717822                       Kill This Love     BLACKPINK   \n",
       "31688205                    사계 (Four Seasons)  태연 (TAEYEON)   \n",
       "31709524                             별 보러 갈래?        볼빨간사춘기   \n",
       "31706215  사월이 지나면 우리 헤어져요 (Beautiful goodbye)      첸 (CHEN)   \n",
       "\n",
       "                                                   커버이미지_주소     좋아요  test  \n",
       "곡일련번호                                                                      \n",
       "31709523  https://cdnimg.melon.co.kr/cm/album/images/102...   67656     0  \n",
       "31717822  https://cdnimg.melon.co.kr/cm/album/images/102...   47994     1  \n",
       "31688205  https://cdnimg.melon.co.kr/cm/album/images/102...  115426     2  \n",
       "31709524  https://cdnimg.melon.co.kr/cm/album/images/102...   36927     3  \n",
       "31706215  https://cdnimg.melon.co.kr/cm/album/images/102...   86810     4  "
      ]
     },
     "execution_count": 8,
     "metadata": {},
     "output_type": "execute_result"
    }
   ],
   "source": [
    "melon_df = pd.read_pickle('멜론-차트.pickle')\n",
    "print(melon_df.shape)\n",
    "melon_df.head()"
   ]
  },
  {
   "cell_type": "code",
   "execution_count": 9,
   "metadata": {},
   "outputs": [],
   "source": [
    "import xlwings as xw\n",
    "xw.view(melon_df)  # 특정 워크시트에 데이터를 통으로 갱신"
   ]
  },
  {
   "cell_type": "code",
   "execution_count": 18,
   "metadata": {},
   "outputs": [],
   "source": [
    "sheet = xw.sheets['Sheet2']\n",
    "xw.view(melon_df, sheet=sheet)"
   ]
  },
  {
   "cell_type": "code",
   "execution_count": 20,
   "metadata": {},
   "outputs": [],
   "source": [
    "xw.view(melon_df, sheet=xw.sheets.active)"
   ]
  },
  {
   "cell_type": "code",
   "execution_count": null,
   "metadata": {},
   "outputs": [],
   "source": []
  },
  {
   "cell_type": "code",
   "execution_count": 25,
   "metadata": {},
   "outputs": [
    {
     "data": {
      "text/plain": [
       "[[1.0, '사춘기집Ⅰ 꽃기운', '나만, 봄'],\n",
       " [2.0, 'KILL THIS LOVE', 'Kill This Love'],\n",
       " [3.0, '사계 (Four Seasons)', '사계 (Four Seasons)'],\n",
       " [4.0, '사춘기집Ⅰ 꽃기운', '별 보러 갈래?'],\n",
       " [5.0,\n",
       "  '사월, 그리고 꽃 - The 1st Mini Album',\n",
       "  '사월이 지나면 우리 헤어져요 (Beautiful goodbye)'],\n",
       " [6.0, '장범준 3집', '당신과는 천천히'],\n",
       " [7.0, '장범준 3집', '노래방에서'],\n",
       " [8.0, '그때가 좋았어', '그때가 좋았어']]"
      ]
     },
     "execution_count": 25,
     "metadata": {},
     "output_type": "execute_result"
    }
   ],
   "source": [
    "# 현재 active sheet에서\n",
    "xw.Range('B2:D9').value"
   ]
  },
  {
   "cell_type": "code",
   "execution_count": null,
   "metadata": {},
   "outputs": [],
   "source": []
  },
  {
   "cell_type": "code",
   "execution_count": 35,
   "metadata": {},
   "outputs": [],
   "source": [
    "# xw.Range('A1:H101').value\n",
    "\n",
    "rows = xw.Range('A1').expand().value"
   ]
  },
  {
   "cell_type": "code",
   "execution_count": 40,
   "metadata": {},
   "outputs": [
    {
     "name": "stdout",
     "output_type": "stream",
     "text": [
      "(100, 8)\n"
     ]
    },
    {
     "data": {
      "text/html": [
       "<div>\n",
       "<style scoped>\n",
       "    .dataframe tbody tr th:only-of-type {\n",
       "        vertical-align: middle;\n",
       "    }\n",
       "\n",
       "    .dataframe tbody tr th {\n",
       "        vertical-align: top;\n",
       "    }\n",
       "\n",
       "    .dataframe thead th {\n",
       "        text-align: right;\n",
       "    }\n",
       "</style>\n",
       "<table border=\"1\" class=\"dataframe\">\n",
       "  <thead>\n",
       "    <tr style=\"text-align: right;\">\n",
       "      <th></th>\n",
       "      <th>곡일련번호</th>\n",
       "      <th>순위</th>\n",
       "      <th>앨범</th>\n",
       "      <th>곡명</th>\n",
       "      <th>가수</th>\n",
       "      <th>커버이미지_주소</th>\n",
       "      <th>좋아요</th>\n",
       "      <th>test</th>\n",
       "    </tr>\n",
       "  </thead>\n",
       "  <tbody>\n",
       "    <tr>\n",
       "      <th>0</th>\n",
       "      <td>31709523.0</td>\n",
       "      <td>1.0</td>\n",
       "      <td>사춘기집Ⅰ 꽃기운</td>\n",
       "      <td>나만, 봄</td>\n",
       "      <td>볼빨간사춘기</td>\n",
       "      <td>https://cdnimg.melon.co.kr/cm/album/images/102...</td>\n",
       "      <td>67656.0</td>\n",
       "      <td>0.0</td>\n",
       "    </tr>\n",
       "    <tr>\n",
       "      <th>1</th>\n",
       "      <td>31717822.0</td>\n",
       "      <td>2.0</td>\n",
       "      <td>KILL THIS LOVE</td>\n",
       "      <td>Kill This Love</td>\n",
       "      <td>BLACKPINK</td>\n",
       "      <td>https://cdnimg.melon.co.kr/cm/album/images/102...</td>\n",
       "      <td>47994.0</td>\n",
       "      <td>1.0</td>\n",
       "    </tr>\n",
       "    <tr>\n",
       "      <th>2</th>\n",
       "      <td>31688205.0</td>\n",
       "      <td>3.0</td>\n",
       "      <td>사계 (Four Seasons)</td>\n",
       "      <td>사계 (Four Seasons)</td>\n",
       "      <td>태연 (TAEYEON)</td>\n",
       "      <td>https://cdnimg.melon.co.kr/cm/album/images/102...</td>\n",
       "      <td>115426.0</td>\n",
       "      <td>2.0</td>\n",
       "    </tr>\n",
       "    <tr>\n",
       "      <th>3</th>\n",
       "      <td>31709524.0</td>\n",
       "      <td>4.0</td>\n",
       "      <td>사춘기집Ⅰ 꽃기운</td>\n",
       "      <td>별 보러 갈래?</td>\n",
       "      <td>볼빨간사춘기</td>\n",
       "      <td>https://cdnimg.melon.co.kr/cm/album/images/102...</td>\n",
       "      <td>36927.0</td>\n",
       "      <td>3.0</td>\n",
       "    </tr>\n",
       "    <tr>\n",
       "      <th>4</th>\n",
       "      <td>31706215.0</td>\n",
       "      <td>5.0</td>\n",
       "      <td>사월, 그리고 꽃 - The 1st Mini Album</td>\n",
       "      <td>사월이 지나면 우리 헤어져요 (Beautiful goodbye)</td>\n",
       "      <td>첸 (CHEN)</td>\n",
       "      <td>https://cdnimg.melon.co.kr/cm/album/images/102...</td>\n",
       "      <td>86810.0</td>\n",
       "      <td>4.0</td>\n",
       "    </tr>\n",
       "  </tbody>\n",
       "</table>\n",
       "</div>"
      ],
      "text/plain": [
       "        곡일련번호   순위                              앨범  \\\n",
       "0  31709523.0  1.0                       사춘기집Ⅰ 꽃기운   \n",
       "1  31717822.0  2.0                  KILL THIS LOVE   \n",
       "2  31688205.0  3.0               사계 (Four Seasons)   \n",
       "3  31709524.0  4.0                       사춘기집Ⅰ 꽃기운   \n",
       "4  31706215.0  5.0  사월, 그리고 꽃 - The 1st Mini Album   \n",
       "\n",
       "                                    곡명            가수  \\\n",
       "0                                나만, 봄        볼빨간사춘기   \n",
       "1                       Kill This Love     BLACKPINK   \n",
       "2                    사계 (Four Seasons)  태연 (TAEYEON)   \n",
       "3                             별 보러 갈래?        볼빨간사춘기   \n",
       "4  사월이 지나면 우리 헤어져요 (Beautiful goodbye)      첸 (CHEN)   \n",
       "\n",
       "                                            커버이미지_주소       좋아요  test  \n",
       "0  https://cdnimg.melon.co.kr/cm/album/images/102...   67656.0   0.0  \n",
       "1  https://cdnimg.melon.co.kr/cm/album/images/102...   47994.0   1.0  \n",
       "2  https://cdnimg.melon.co.kr/cm/album/images/102...  115426.0   2.0  \n",
       "3  https://cdnimg.melon.co.kr/cm/album/images/102...   36927.0   3.0  \n",
       "4  https://cdnimg.melon.co.kr/cm/album/images/102...   86810.0   4.0  "
      ]
     },
     "execution_count": 40,
     "metadata": {},
     "output_type": "execute_result"
    }
   ],
   "source": [
    "df = pd.DataFrame(rows[1:], columns=rows[0])\n",
    "print(df.shape)\n",
    "df.head()"
   ]
  },
  {
   "cell_type": "code",
   "execution_count": null,
   "metadata": {},
   "outputs": [],
   "source": []
  },
  {
   "cell_type": "code",
   "execution_count": 42,
   "metadata": {},
   "outputs": [
    {
     "name": "stdout",
     "output_type": "stream",
     "text": [
      "(100, 7)\n"
     ]
    },
    {
     "data": {
      "text/html": [
       "<div>\n",
       "<style scoped>\n",
       "    .dataframe tbody tr th:only-of-type {\n",
       "        vertical-align: middle;\n",
       "    }\n",
       "\n",
       "    .dataframe tbody tr th {\n",
       "        vertical-align: top;\n",
       "    }\n",
       "\n",
       "    .dataframe thead th {\n",
       "        text-align: right;\n",
       "    }\n",
       "</style>\n",
       "<table border=\"1\" class=\"dataframe\">\n",
       "  <thead>\n",
       "    <tr style=\"text-align: right;\">\n",
       "      <th></th>\n",
       "      <th>순위</th>\n",
       "      <th>앨범</th>\n",
       "      <th>곡명</th>\n",
       "      <th>가수</th>\n",
       "      <th>커버이미지_주소</th>\n",
       "      <th>좋아요</th>\n",
       "      <th>test</th>\n",
       "    </tr>\n",
       "    <tr>\n",
       "      <th>곡일련번호</th>\n",
       "      <th></th>\n",
       "      <th></th>\n",
       "      <th></th>\n",
       "      <th></th>\n",
       "      <th></th>\n",
       "      <th></th>\n",
       "      <th></th>\n",
       "    </tr>\n",
       "  </thead>\n",
       "  <tbody>\n",
       "    <tr>\n",
       "      <th>31709523.0</th>\n",
       "      <td>1.0</td>\n",
       "      <td>사춘기집Ⅰ 꽃기운</td>\n",
       "      <td>나만, 봄</td>\n",
       "      <td>볼빨간사춘기</td>\n",
       "      <td>https://cdnimg.melon.co.kr/cm/album/images/102...</td>\n",
       "      <td>67656.0</td>\n",
       "      <td>0.0</td>\n",
       "    </tr>\n",
       "    <tr>\n",
       "      <th>31717822.0</th>\n",
       "      <td>2.0</td>\n",
       "      <td>KILL THIS LOVE</td>\n",
       "      <td>Kill This Love</td>\n",
       "      <td>BLACKPINK</td>\n",
       "      <td>https://cdnimg.melon.co.kr/cm/album/images/102...</td>\n",
       "      <td>47994.0</td>\n",
       "      <td>1.0</td>\n",
       "    </tr>\n",
       "    <tr>\n",
       "      <th>31688205.0</th>\n",
       "      <td>3.0</td>\n",
       "      <td>사계 (Four Seasons)</td>\n",
       "      <td>사계 (Four Seasons)</td>\n",
       "      <td>태연 (TAEYEON)</td>\n",
       "      <td>https://cdnimg.melon.co.kr/cm/album/images/102...</td>\n",
       "      <td>115426.0</td>\n",
       "      <td>2.0</td>\n",
       "    </tr>\n",
       "    <tr>\n",
       "      <th>31709524.0</th>\n",
       "      <td>4.0</td>\n",
       "      <td>사춘기집Ⅰ 꽃기운</td>\n",
       "      <td>별 보러 갈래?</td>\n",
       "      <td>볼빨간사춘기</td>\n",
       "      <td>https://cdnimg.melon.co.kr/cm/album/images/102...</td>\n",
       "      <td>36927.0</td>\n",
       "      <td>3.0</td>\n",
       "    </tr>\n",
       "    <tr>\n",
       "      <th>31706215.0</th>\n",
       "      <td>5.0</td>\n",
       "      <td>사월, 그리고 꽃 - The 1st Mini Album</td>\n",
       "      <td>사월이 지나면 우리 헤어져요 (Beautiful goodbye)</td>\n",
       "      <td>첸 (CHEN)</td>\n",
       "      <td>https://cdnimg.melon.co.kr/cm/album/images/102...</td>\n",
       "      <td>86810.0</td>\n",
       "      <td>4.0</td>\n",
       "    </tr>\n",
       "  </tbody>\n",
       "</table>\n",
       "</div>"
      ],
      "text/plain": [
       "             순위                              앨범  \\\n",
       "곡일련번호                                             \n",
       "31709523.0  1.0                       사춘기집Ⅰ 꽃기운   \n",
       "31717822.0  2.0                  KILL THIS LOVE   \n",
       "31688205.0  3.0               사계 (Four Seasons)   \n",
       "31709524.0  4.0                       사춘기집Ⅰ 꽃기운   \n",
       "31706215.0  5.0  사월, 그리고 꽃 - The 1st Mini Album   \n",
       "\n",
       "                                             곡명            가수  \\\n",
       "곡일련번호                                                           \n",
       "31709523.0                                나만, 봄        볼빨간사춘기   \n",
       "31717822.0                       Kill This Love     BLACKPINK   \n",
       "31688205.0                    사계 (Four Seasons)  태연 (TAEYEON)   \n",
       "31709524.0                             별 보러 갈래?        볼빨간사춘기   \n",
       "31706215.0  사월이 지나면 우리 헤어져요 (Beautiful goodbye)      첸 (CHEN)   \n",
       "\n",
       "                                                     커버이미지_주소       좋아요  test  \n",
       "곡일련번호                                                                          \n",
       "31709523.0  https://cdnimg.melon.co.kr/cm/album/images/102...   67656.0   0.0  \n",
       "31717822.0  https://cdnimg.melon.co.kr/cm/album/images/102...   47994.0   1.0  \n",
       "31688205.0  https://cdnimg.melon.co.kr/cm/album/images/102...  115426.0   2.0  \n",
       "31709524.0  https://cdnimg.melon.co.kr/cm/album/images/102...   36927.0   3.0  \n",
       "31706215.0  https://cdnimg.melon.co.kr/cm/album/images/102...   86810.0   4.0  "
      ]
     },
     "execution_count": 42,
     "metadata": {},
     "output_type": "execute_result"
    }
   ],
   "source": [
    "df = xw.Range('A1').expand().options(pd.DataFrame).value\n",
    "print(df.shape)\n",
    "df.head()"
   ]
  },
  {
   "cell_type": "code",
   "execution_count": null,
   "metadata": {},
   "outputs": [],
   "source": []
  },
  {
   "cell_type": "code",
   "execution_count": 43,
   "metadata": {},
   "outputs": [],
   "source": [
    "xw.Range('B2').value = \"Hello\""
   ]
  },
  {
   "cell_type": "code",
   "execution_count": 44,
   "metadata": {},
   "outputs": [],
   "source": [
    "xw.Range('B3').value = [\"사과\", \"바나나\", \"딸기\", \"오렌지\"]"
   ]
  },
  {
   "cell_type": "code",
   "execution_count": 45,
   "metadata": {},
   "outputs": [],
   "source": [
    "xw.Range('B5').options(transpose=True).value = [\"사과\", \"바나나\", \"딸기\", \"오렌지\"]"
   ]
  },
  {
   "cell_type": "code",
   "execution_count": 49,
   "metadata": {},
   "outputs": [],
   "source": [
    "mask = melon_df.가수 == '방탄소년단'\n",
    "xw.Range('D11').value = melon_df.loc[mask]"
   ]
  },
  {
   "cell_type": "code",
   "execution_count": 53,
   "metadata": {},
   "outputs": [],
   "source": [
    "mask = melon_df.가수 == '아이유'\n",
    "xw.Range('D19').value = melon_df.loc[mask].values"
   ]
  },
  {
   "cell_type": "code",
   "execution_count": null,
   "metadata": {},
   "outputs": [],
   "source": []
  },
  {
   "cell_type": "code",
   "execution_count": 55,
   "metadata": {},
   "outputs": [
    {
     "data": {
      "text/plain": [
       "Apps([<Excel App 35784>])"
      ]
     },
     "execution_count": 55,
     "metadata": {},
     "output_type": "execute_result"
    }
   ],
   "source": [
    "xw.apps"
   ]
  },
  {
   "cell_type": "code",
   "execution_count": 54,
   "metadata": {},
   "outputs": [
    {
     "data": {
      "text/plain": [
       "Books([<Book [Book1]>])"
      ]
     },
     "execution_count": 54,
     "metadata": {},
     "output_type": "execute_result"
    }
   ],
   "source": [
    "xw.books"
   ]
  },
  {
   "cell_type": "code",
   "execution_count": 56,
   "metadata": {},
   "outputs": [
    {
     "data": {
      "text/plain": [
       "Sheets([<Sheet [Book1]Sheet1>, <Sheet [Book1]Sheet2>, <Sheet [Book1]Sheet3>, ...])"
      ]
     },
     "execution_count": 56,
     "metadata": {},
     "output_type": "execute_result"
    }
   ],
   "source": [
    "xw.sheets"
   ]
  },
  {
   "cell_type": "code",
   "execution_count": null,
   "metadata": {},
   "outputs": [],
   "source": []
  },
  {
   "cell_type": "code",
   "execution_count": 63,
   "metadata": {},
   "outputs": [],
   "source": [
    "sheet = xw.books['Book1'].sheets['Sheet3']\n",
    "sheet.range('D19').value = melon_df"
   ]
  },
  {
   "cell_type": "code",
   "execution_count": null,
   "metadata": {},
   "outputs": [],
   "source": []
  },
  {
   "cell_type": "code",
   "execution_count": null,
   "metadata": {},
   "outputs": [],
   "source": []
  },
  {
   "cell_type": "code",
   "execution_count": null,
   "metadata": {},
   "outputs": [],
   "source": []
  },
  {
   "cell_type": "code",
   "execution_count": null,
   "metadata": {},
   "outputs": [],
   "source": []
  },
  {
   "cell_type": "code",
   "execution_count": null,
   "metadata": {},
   "outputs": [],
   "source": []
  }
 ],
 "metadata": {
  "kernelspec": {
   "display_name": "Python 3",
   "language": "python",
   "name": "python3"
  },
  "language_info": {
   "codemirror_mode": {
    "name": "ipython",
    "version": 3
   },
   "file_extension": ".py",
   "mimetype": "text/x-python",
   "name": "python",
   "nbconvert_exporter": "python",
   "pygments_lexer": "ipython3",
   "version": "3.7.2"
  }
 },
 "nbformat": 4,
 "nbformat_minor": 2
}
