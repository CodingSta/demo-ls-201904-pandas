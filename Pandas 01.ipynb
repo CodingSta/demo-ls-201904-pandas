{
 "cells": [
  {
   "cell_type": "code",
   "execution_count": 5,
   "metadata": {},
   "outputs": [
    {
     "data": {
      "text/plain": [
       "1267650600228229401496703205376"
      ]
     },
     "execution_count": 5,
     "metadata": {},
     "output_type": "execute_result"
    }
   ],
   "source": [
    "2 ** 100"
   ]
  },
  {
   "cell_type": "code",
   "execution_count": 6,
   "metadata": {},
   "outputs": [],
   "source": [
    "import time"
   ]
  },
  {
   "cell_type": "code",
   "execution_count": null,
   "metadata": {},
   "outputs": [],
   "source": []
  },
  {
   "cell_type": "code",
   "execution_count": 15,
   "metadata": {},
   "outputs": [
    {
     "name": "stdout",
     "output_type": "stream",
     "text": [
      "어디 사는 가요? seoul\n",
      "seoul에 살고 계시는 군요.\n"
     ]
    }
   ],
   "source": [
    "지역 = input(\"어디 사는 가요? \")\n",
    "print(\"{}에 살고 계시는 군요.\".format(지역))"
   ]
  },
  {
   "cell_type": "code",
   "execution_count": 9,
   "metadata": {},
   "outputs": [
    {
     "name": "stdout",
     "output_type": "stream",
     "text": [
      "hello\n",
      "world\n"
     ]
    }
   ],
   "source": [
    "print(\"hello\")\n",
    "time.sleep(5)  # 5초 딜레이\n",
    "print(\"world\")"
   ]
  },
  {
   "cell_type": "markdown",
   "metadata": {},
   "source": [
    "# Pandas 맛보기"
   ]
  },
  {
   "cell_type": "code",
   "execution_count": 17,
   "metadata": {},
   "outputs": [
    {
     "data": {
      "text/plain": [
       "'0.23.4'"
      ]
     },
     "execution_count": 17,
     "metadata": {},
     "output_type": "execute_result"
    }
   ],
   "source": [
    "import pandas as pd\n",
    "\n",
    "pd.__version__"
   ]
  },
  {
   "cell_type": "code",
   "execution_count": 24,
   "metadata": {},
   "outputs": [
    {
     "name": "stdout",
     "output_type": "stream",
     "text": [
      "(44, 6)\n"
     ]
    },
    {
     "data": {
      "text/html": [
       "<div>\n",
       "<style scoped>\n",
       "    .dataframe tbody tr th:only-of-type {\n",
       "        vertical-align: middle;\n",
       "    }\n",
       "\n",
       "    .dataframe tbody tr th {\n",
       "        vertical-align: top;\n",
       "    }\n",
       "\n",
       "    .dataframe thead th {\n",
       "        text-align: right;\n",
       "    }\n",
       "</style>\n",
       "<table border=\"1\" class=\"dataframe\">\n",
       "  <thead>\n",
       "    <tr style=\"text-align: right;\">\n",
       "      <th></th>\n",
       "      <th>매매기준율</th>\n",
       "      <th>현찰 - 사실 때</th>\n",
       "      <th>현찰 - 파실 때</th>\n",
       "      <th>송금 - 보내실 때</th>\n",
       "      <th>송금 - 받으실 때</th>\n",
       "      <th>미화환산율</th>\n",
       "    </tr>\n",
       "    <tr>\n",
       "      <th>통화명</th>\n",
       "      <th></th>\n",
       "      <th></th>\n",
       "      <th></th>\n",
       "      <th></th>\n",
       "      <th></th>\n",
       "      <th></th>\n",
       "    </tr>\n",
       "  </thead>\n",
       "  <tbody>\n",
       "    <tr>\n",
       "      <th>미국 USD</th>\n",
       "      <td>1142.90</td>\n",
       "      <td>1162.90</td>\n",
       "      <td>1122.90</td>\n",
       "      <td>1154.10</td>\n",
       "      <td>1131.70</td>\n",
       "      <td>1.000</td>\n",
       "    </tr>\n",
       "    <tr>\n",
       "      <th>유럽연합 EUR</th>\n",
       "      <td>1283.42</td>\n",
       "      <td>1308.96</td>\n",
       "      <td>1257.88</td>\n",
       "      <td>1296.25</td>\n",
       "      <td>1270.59</td>\n",
       "      <td>1.123</td>\n",
       "    </tr>\n",
       "    <tr>\n",
       "      <th>일본 JPY (100엔)</th>\n",
       "      <td>1026.26</td>\n",
       "      <td>1044.21</td>\n",
       "      <td>1008.31</td>\n",
       "      <td>1036.31</td>\n",
       "      <td>1016.21</td>\n",
       "      <td>0.898</td>\n",
       "    </tr>\n",
       "    <tr>\n",
       "      <th>중국 CNY</th>\n",
       "      <td>169.94</td>\n",
       "      <td>178.43</td>\n",
       "      <td>161.45</td>\n",
       "      <td>171.63</td>\n",
       "      <td>168.25</td>\n",
       "      <td>0.149</td>\n",
       "    </tr>\n",
       "    <tr>\n",
       "      <th>홍콩 HKD</th>\n",
       "      <td>145.60</td>\n",
       "      <td>148.46</td>\n",
       "      <td>142.74</td>\n",
       "      <td>147.05</td>\n",
       "      <td>144.15</td>\n",
       "      <td>0.127</td>\n",
       "    </tr>\n",
       "  </tbody>\n",
       "</table>\n",
       "</div>"
      ],
      "text/plain": [
       "                 매매기준율  현찰 - 사실 때  현찰 - 파실 때  송금 - 보내실 때  송금 - 받으실 때  미화환산율\n",
       "통화명                                                                        \n",
       "미국 USD         1142.90    1162.90    1122.90     1154.10     1131.70  1.000\n",
       "유럽연합 EUR       1283.42    1308.96    1257.88     1296.25     1270.59  1.123\n",
       "일본 JPY (100엔)  1026.26    1044.21    1008.31     1036.31     1016.21  0.898\n",
       "중국 CNY          169.94     178.43     161.45      171.63      168.25  0.149\n",
       "홍콩 HKD          145.60     148.46     142.74      147.05      144.15  0.127"
      ]
     },
     "execution_count": 24,
     "metadata": {},
     "output_type": "execute_result"
    }
   ],
   "source": [
    "df_list = pd.read_html('https://finance.naver.com/marketindex/exchangeList.nhn')\n",
    "df = df_list[0]\n",
    "df.columns = [\n",
    "    '통화명', '매매기준율', '현찰 - 사실 때', '현찰 - 파실 때',\n",
    "    '송금 - 보내실 때', '송금 - 받으실 때', '미화환산율',\n",
    "]\n",
    "df = df.set_index('통화명')\n",
    "print(df.shape)\n",
    "df.head()  # 상위 5행만 보기"
   ]
  },
  {
   "cell_type": "code",
   "execution_count": 25,
   "metadata": {},
   "outputs": [],
   "source": [
    "df.to_excel(\"환율.xlsx\")"
   ]
  },
  {
   "cell_type": "code",
   "execution_count": null,
   "metadata": {},
   "outputs": [],
   "source": []
  }
 ],
 "metadata": {
  "kernelspec": {
   "display_name": "Python 3",
   "language": "python",
   "name": "python3"
  },
  "language_info": {
   "codemirror_mode": {
    "name": "ipython",
    "version": 3
   },
   "file_extension": ".py",
   "mimetype": "text/x-python",
   "name": "python",
   "nbconvert_exporter": "python",
   "pygments_lexer": "ipython3",
   "version": "3.7.2"
  }
 },
 "nbformat": 4,
 "nbformat_minor": 2
}
