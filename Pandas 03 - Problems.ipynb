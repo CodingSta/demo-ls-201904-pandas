{
 "cells": [
  {
   "cell_type": "code",
   "execution_count": null,
   "metadata": {},
   "outputs": [],
   "source": []
  },
  {
   "cell_type": "markdown",
   "metadata": {},
   "source": [
    "# 문제 1\n",
    "\n",
    "타이타닉의 train 데이터에서 1) 전체 생존률과 2) 생존자의 총 인원수, 사망자의 총 인원수를 구하세요."
   ]
  },
  {
   "cell_type": "code",
   "execution_count": null,
   "metadata": {},
   "outputs": [],
   "source": []
  },
  {
   "cell_type": "markdown",
   "metadata": {},
   "source": [
    "# 문제 2\n",
    "\n",
    "`Survived` 컬럼에는 0/1 값이 있습니다. 이는 직관적이지 않기에, 이를 표현하는 별도 컬럼 `Survived-Label`을 만들어봅시다.\n",
    "\n",
    "+ `0` : `사망`\n",
    "+ `1` : `생존`"
   ]
  },
  {
   "cell_type": "code",
   "execution_count": null,
   "metadata": {},
   "outputs": [],
   "source": []
  },
  {
   "cell_type": "markdown",
   "metadata": {},
   "source": [
    "# 문제 3\n",
    "\n",
    "`문제 2`와 마찬가지로, `Pclass` 컬럼 역시 `Pclass-Label` 컬럼을 만들어봅시다.\n",
    "\n",
    "+ `1` : `퍼스트 클래스`\n",
    "+ `2` : `비즈니스`\n",
    "+ `3` : `이코노미`"
   ]
  },
  {
   "cell_type": "code",
   "execution_count": null,
   "metadata": {},
   "outputs": [],
   "source": []
  },
  {
   "cell_type": "markdown",
   "metadata": {},
   "source": [
    "# 문제 4\n",
    "\n",
    "`Pclass`별 생존율을 출력해봅시다.\n",
    "\n",
    "Hint) `pivot_table`이나 `group_by`를 활용해볼 수 있습니다."
   ]
  },
  {
   "cell_type": "code",
   "execution_count": null,
   "metadata": {},
   "outputs": [],
   "source": []
  },
  {
   "cell_type": "markdown",
   "metadata": {},
   "source": [
    "# 문제 5\n",
    "\n",
    "`Embarked` 컬럼도 마찬가지로 `Embarked-Label` 컬럼을 만들어봅시다.\n",
    "\n",
    "- `C` : `Cherbourg`\n",
    "- `S` : `Southampton`\n",
    "- `Q` : `Queenstown`"
   ]
  },
  {
   "cell_type": "code",
   "execution_count": null,
   "metadata": {},
   "outputs": [],
   "source": []
  },
  {
   "cell_type": "markdown",
   "metadata": {},
   "source": [
    "# 문제 6\n",
    "\n",
    "`Embarked-Label`별 생존율을 출력해보세요."
   ]
  },
  {
   "cell_type": "code",
   "execution_count": null,
   "metadata": {},
   "outputs": [],
   "source": []
  },
  {
   "cell_type": "markdown",
   "metadata": {},
   "source": [
    "# 예시) 머신러닝 알고리즘 적용\n",
    "\n",
    "```python\n",
    "# from sklearn.neighbors import KNeighborsClassifier\n",
    "from sklearn.tree import DecisionTreeClassifier  # Decision Tree\n",
    "# from sklearn.ensemble import RandomForestClassifier\n",
    "# from sklearn.naive_bayes import GaussianNB\n",
    "# from sklearn.svm import SVC\n",
    "\n",
    "# train/test 데이터 준비\n",
    "column_names = ['Age', 'Pclass']  # FIXME: Feature 컬럼 지정\n",
    "train_x = train_df[column_names]\n",
    "train_y = train_df['Survived']\n",
    "test_x = test_df[column_names]\n",
    "\n",
    "# DecisionTreeClassifier를 통해 학습\n",
    "clf = DecisionTreeClassifier(max_depth=5)\n",
    "clf.fit(train_x, train_y)\n",
    "\n",
    "# 필드별 중요도를 차트로 그리기\n",
    "pd.Series(\n",
    "    clf.feature_importances_,\n",
    "    index=train_x.columns).sort_values().plot(kind='barh')\n",
    "\n",
    "# test_x 데이터로 생존여부 예측\n",
    "clf.predict(test_x)\n",
    "```"
   ]
  },
  {
   "cell_type": "code",
   "execution_count": null,
   "metadata": {},
   "outputs": [],
   "source": []
  },
  {
   "cell_type": "markdown",
   "metadata": {},
   "source": [
    "# 문제 7 : One Hot Encoding\n",
    "\n",
    "`Pclass` 컬럼에 대해, `Pclass-1`, `Pclass-2`, `Pclass-3` 컬럼을 만들어주세요.\n",
    "\n",
    "+ `Pclass-1` : `Pclass=1`이면 `True`, 아니면 `False`\n",
    "+ `Pclass-2` : `Pclass=2`이면 `True`, 아니면 `False`\n",
    "+ `Pclass-3` : `Pclass=3`이면 `True`, 아니면 `False`"
   ]
  },
  {
   "cell_type": "code",
   "execution_count": null,
   "metadata": {},
   "outputs": [],
   "source": []
  },
  {
   "cell_type": "markdown",
   "metadata": {},
   "source": [
    "# 문제 8\n",
    "\n",
    "`Age` 컬럼에 대해, 다음 정보를 출력해주세요.\n",
    "\n",
    "+ 평균 (mean)\n",
    "+ 분산 (standard deviation, std)\n",
    "+ 가장 나이가 많은 사람 (max)\n",
    "+ 가장 나이가 적은 사람 (min)\n",
    "\n",
    "> `.describe()` 를 활용해보실 수도 있습니다."
   ]
  },
  {
   "cell_type": "code",
   "execution_count": null,
   "metadata": {},
   "outputs": [],
   "source": []
  },
  {
   "cell_type": "markdown",
   "metadata": {},
   "source": [
    "# 문제 9\n",
    "\n",
    "객실 등급(`Pclass`)별 `Age` 평균을 구하세요."
   ]
  },
  {
   "cell_type": "code",
   "execution_count": null,
   "metadata": {},
   "outputs": [],
   "source": []
  },
  {
   "cell_type": "markdown",
   "metadata": {},
   "source": [
    "# 문제 10\n",
    "\n",
    "다음 `Age` 구간 마다의 생존율을 구하세요.\n",
    "\n",
    "+ 나이가 15세 미만인 승객.\n",
    "+ 나이가 15세 이상이고 30세 미만인 승객.\n",
    "+ 나이가 30세 이상인 승객."
   ]
  },
  {
   "cell_type": "code",
   "execution_count": null,
   "metadata": {},
   "outputs": [],
   "source": []
  },
  {
   "cell_type": "markdown",
   "metadata": {},
   "source": [
    "# 문제 11\n",
    "\n",
    "`Age`가 `NaN`인 승객의 생존율과 아닌 승객의 생존율을 구하세요."
   ]
  },
  {
   "cell_type": "code",
   "execution_count": null,
   "metadata": {},
   "outputs": [],
   "source": []
  },
  {
   "cell_type": "markdown",
   "metadata": {},
   "source": [
    "# 문제 12\n",
    "\n",
    "`Age`가 `NaN`인 승객의 `Age`에, 그 승객이 속한 `Pclass`의 `Age` 평균을 대입해주세요."
   ]
  },
  {
   "cell_type": "code",
   "execution_count": null,
   "metadata": {},
   "outputs": [],
   "source": []
  },
  {
   "cell_type": "markdown",
   "metadata": {},
   "source": [
    "# 문제 13\n",
    "\n",
    "형제/자매/배우자(SibSp)도 없고, 부모/자식(Parch)도 없는 사람을 `싱글`이라 하겠습니다. `싱글` 컬럼을 만들어주시고 `싱글` 여부에 따른 생존율을 구해주세요."
   ]
  },
  {
   "cell_type": "code",
   "execution_count": null,
   "metadata": {},
   "outputs": [],
   "source": []
  },
  {
   "cell_type": "markdown",
   "metadata": {},
   "source": [
    "# 문제 14\n",
    "\n",
    "`가족수` 컬럼을 만들어주세요. `가족수 = SibSp + Parch + 1` 수식을 따릅니다.\n",
    "\n",
    "그리고, `가족수`별 생존율도 구해주세요."
   ]
  },
  {
   "cell_type": "code",
   "execution_count": null,
   "metadata": {},
   "outputs": [],
   "source": []
  },
  {
   "cell_type": "markdown",
   "metadata": {},
   "source": [
    "# 문제 15\n",
    "\n",
    "`가족수` 컬럼이 너무 세분화되어있습니다. 이를 구역으로 나눠보겠습니다.\n",
    "\n",
    "+ `싱글` : `가족수<=1`\n",
    "+ `핵가족` : `1<가족수<5`\n",
    "+ `대가족` : `가족수>=5`\n",
    "\n",
    "위를 참조해서 `가족형태` 컬럼을 만들어주시고, `가족형태`별 생존율을 구해주세요."
   ]
  },
  {
   "cell_type": "code",
   "execution_count": null,
   "metadata": {},
   "outputs": [],
   "source": []
  },
  {
   "cell_type": "markdown",
   "metadata": {},
   "source": [
    "# 문제 16 : One Hot Encoding\n",
    "\n",
    "`가족형태` 컬럼에 대해, `가족형태-싱글`, `가족형태-핵가족`, `가족형태-대가족` 컬럼을 만들어주세요.\n",
    "\n",
    "+ `가족형태-싱글` : `가족형태=싱글`이면 True, 아니면 False\n",
    "+ `가족형태-핵가족` : `가족형태=핵가족`이면 True, 아니면 False\n",
    "+ `가족형태-대가족` : `가족형태=대가족`이면 True, 아니면 False"
   ]
  },
  {
   "cell_type": "code",
   "execution_count": null,
   "metadata": {},
   "outputs": [],
   "source": []
  },
  {
   "cell_type": "markdown",
   "metadata": {},
   "source": [
    "# 문제 17\n",
    "\n",
    "`Name` 컬럼은 `성, 호칭. 이름` 구조를 가지고 있습니다. `호칭`을 추출해서, `호칭` 컬럼에 저장해주세요.\n",
    "\n",
    "그리고, `호칭`별 생존율을 구해주세요."
   ]
  },
  {
   "cell_type": "code",
   "execution_count": null,
   "metadata": {},
   "outputs": [],
   "source": []
  },
  {
   "cell_type": "markdown",
   "metadata": {},
   "source": [
    "# 문제 18\n",
    "\n",
    "낮은 모수의 `호칭`들을 정리해봅시다.\n",
    "\n",
    "`Mr`, `Mrs`, `Miss`, `Master`가 거의 대부분입니다. 이 외의 `호칭`은 `Other`로 정리해봅시다.\n",
    "\n",
    "그리고, `호칭`별 생존율을 다시 구해봅시다."
   ]
  },
  {
   "cell_type": "code",
   "execution_count": null,
   "metadata": {},
   "outputs": [],
   "source": []
  },
  {
   "cell_type": "markdown",
   "metadata": {},
   "source": [
    "# 문제 19\n",
    "\n",
    "`결혼유무` 컬럼을 만들어봅시다.\n",
    "\n",
    "+ `호칭`이 `Mr`, `Mrs` 이면 : `True`\n",
    "+ `호칭`이 `Master`, `Miss` 이면 : `False`\n",
    "+ 나머지 `호칭`은 `NaN` 그대로 둡시다.\n",
    "\n",
    "`결혼유무`별 생존율을 구해봅시다."
   ]
  },
  {
   "cell_type": "code",
   "execution_count": null,
   "metadata": {},
   "outputs": [],
   "source": []
  },
  {
   "cell_type": "code",
   "execution_count": null,
   "metadata": {},
   "outputs": [],
   "source": []
  },
  {
   "cell_type": "code",
   "execution_count": null,
   "metadata": {},
   "outputs": [],
   "source": []
  },
  {
   "cell_type": "code",
   "execution_count": null,
   "metadata": {},
   "outputs": [],
   "source": []
  }
 ],
 "metadata": {
  "kernelspec": {
   "display_name": "Python 3",
   "language": "python",
   "name": "python3"
  },
  "language_info": {
   "codemirror_mode": {
    "name": "ipython",
    "version": 3
   },
   "file_extension": ".py",
   "mimetype": "text/x-python",
   "name": "python",
   "nbconvert_exporter": "python",
   "pygments_lexer": "ipython3",
   "version": "3.7.2"
  }
 },
 "nbformat": 4,
 "nbformat_minor": 2
}
